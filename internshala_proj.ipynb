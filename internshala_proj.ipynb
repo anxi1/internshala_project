{
 "cells": [
  {
   "cell_type": "code",
   "execution_count": 2,
   "id": "eb2a7559",
   "metadata": {},
   "outputs": [
    {
     "name": "stdout",
     "output_type": "stream",
     "text": [
      "           Job Title Salary Estimate  \\\n",
      "0  Sr Data Scientist        137-171    \n",
      "1     Data Scientist        137-171    \n",
      "2     Data Scientist        137-171    \n",
      "3     Data Scientist        137-171    \n",
      "4     Data Scientist        137-171    \n",
      "\n",
      "                                     Job Description  Rating  \\\n",
      "0  Description\\n\\nThe Senior Data Scientist is re...     3.1   \n",
      "1  Secure our Nation, Ignite your Future\\n\\nJoin ...     4.2   \n",
      "2  Overview\\n\\n\\nAnalysis Group is one of the lar...     3.8   \n",
      "3  JOB DESCRIPTION:\\n\\nDo you have a passion for ...     3.5   \n",
      "4  Data Scientist\\nAffinity Solutions / Marketing...     2.9   \n",
      "\n",
      "         Company Name       Location            Headquarters  \\\n",
      "0         Healthfirst   New York, NY            New York, NY   \n",
      "1             ManTech  Chantilly, VA             Herndon, VA   \n",
      "2      Analysis Group     Boston, MA              Boston, MA   \n",
      "3             INFICON     Newton, MA  Bad Ragaz, Switzerland   \n",
      "4  Affinity Solutions   New York, NY            New York, NY   \n",
      "\n",
      "                      Size        Type of ownership  \\\n",
      "0   1001 to 5000 employees   Nonprofit Organization   \n",
      "1  5001 to 10000 employees         Company - Public   \n",
      "2   1001 to 5000 employees  Private Practice / Firm   \n",
      "3    501 to 1000 employees         Company - Public   \n",
      "4      51 to 200 employees        Company - Private   \n",
      "\n",
      "                                Industry  ... company_age python  excel  \\\n",
      "0                     Insurance Carriers  ...          27      0      0   \n",
      "1                 Research & Development  ...          52      0      0   \n",
      "2                             Consulting  ...          39      1      1   \n",
      "3  Electrical & Electronic Manufacturing  ...          20      1      1   \n",
      "4                Advertising & Marketing  ...          22      1      1   \n",
      "\n",
      "   hadoop  spark aws  tableau  big_data        job_simp  seniority  \n",
      "0       0      0   1        0         0  data scientist     senior  \n",
      "1       1      0   0        0         1  data scientist         na  \n",
      "2       0      0   1        0         0  data scientist         na  \n",
      "3       0      0   1        0         0  data scientist         na  \n",
      "4       0      0   0        0         0  data scientist         na  \n",
      "\n",
      "[5 rows x 27 columns]\n"
     ]
    }
   ],
   "source": [
    "import pandas as pd\n",
    "\n",
    "# Read the CSV file\n",
    "data_frame = pd.read_csv(\"C:\\datascience_project\\glassdoor\\Cleaned_DS_Jobs.csv\")\n",
    "\n",
    "# Access the data in the DataFrame\n",
    "print(data_frame.head())  # Print the first few rows of the DataFrame\n"
   ]
  },
  {
   "cell_type": "code",
   "execution_count": 6,
   "id": "1e78cd9f",
   "metadata": {},
   "outputs": [
    {
     "data": {
      "text/plain": [
       "0      137-171 \n",
       "1      137-171 \n",
       "2      137-171 \n",
       "3      137-171 \n",
       "4      137-171 \n",
       "         ...   \n",
       "655    105-167 \n",
       "656    105-167 \n",
       "657    105-167 \n",
       "658    105-167 \n",
       "659    105-167 \n",
       "Name: Salary Estimate, Length: 660, dtype: object"
      ]
     },
     "execution_count": 6,
     "metadata": {},
     "output_type": "execute_result"
    }
   ],
   "source": [
    "data_frame['Salary Estimate']"
   ]
  },
  {
   "cell_type": "code",
   "execution_count": null,
   "id": "bcf35cbb",
   "metadata": {},
   "outputs": [],
   "source": [
    "salary = data_frame['column_name']\n",
    "\n",
    "# Print the column data\n",
    "print(column_data)"
   ]
  }
 ],
 "metadata": {
  "kernelspec": {
   "display_name": "Python 3 (ipykernel)",
   "language": "python",
   "name": "python3"
  },
  "language_info": {
   "codemirror_mode": {
    "name": "ipython",
    "version": 3
   },
   "file_extension": ".py",
   "mimetype": "text/x-python",
   "name": "python",
   "nbconvert_exporter": "python",
   "pygments_lexer": "ipython3",
   "version": "3.10.4"
  }
 },
 "nbformat": 4,
 "nbformat_minor": 5
}
